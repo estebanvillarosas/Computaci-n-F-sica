{
  "nbformat": 4,
  "nbformat_minor": 0,
  "metadata": {
    "colab": {
      "provenance": []
    },
    "kernelspec": {
      "name": "python3",
      "display_name": "Python 3"
    },
    "language_info": {
      "name": "python"
    }
  },
  "cells": [
    {
      "cell_type": "code",
      "source": [
        "import random"
      ],
      "metadata": {
        "id": "kbw26XBSmIlQ"
      },
      "execution_count": 8,
      "outputs": []
    },
    {
      "cell_type": "code",
      "source": [],
      "metadata": {
        "id": "FLZgSruD5H6B"
      },
      "execution_count": null,
      "outputs": []
    },
    {
      "cell_type": "code",
      "execution_count": 9,
      "metadata": {
        "id": "mECFDB0slKT-"
      },
      "outputs": [],
      "source": [
        "\n",
        "def adivina_el_numero(x):\n",
        "\n",
        "  cont = 0 #Esto nos servirá para contar los intentos fallidos \n",
        "\n",
        "  print(\"¡Bienvenido al juego!\")\n",
        "  print(\"¿Cual es tu nombre?: \")\n",
        "  username = input()\n",
        "  print(\"el objetivo es adivinar el número generado\")\n",
        "\n",
        "  número_aleatorio = random.randint(1, x) #definimos un intervalo de número enteros\n",
        "\n",
        "  predicción = 0 #Empezamos con un valor no definido en el intervalo para que no haya la posibilidad de que el juego acabe sin ninguna interacción\n",
        "  while predicción != número_aleatorio: #el ciclo while lo usamos porque no sabemos que numero de veces vamos a requerir el mismo ciclo\n",
        "    print(f\"Adivina el numero entre (1, {x}):\") \n",
        "    predicción = int(input())\n",
        "    if predicción < número_aleatorio: #establecemos condiciones al ciclo\n",
        "      print(\"fallaste, intenta con un número más grande\")\n",
        "      cont+= 1 #se suma 1 cada que alguien coloque un número incorrecto\n",
        "    elif predicción >número_aleatorio:\n",
        "      print(\"fallaste, intenta con un número más pequeño\")\n",
        "      cont+=1 #se suma 1 cada que alguien coloque un número incorrecto\n",
        "  print(f\"¡Muy bien!  {username}  haz hallado el numero {número_aleatorio}. Felicidades\")\n",
        "\n",
        "  print(\"Número de intentos fallidos\", cont)"
      ]
    },
    {
      "cell_type": "code",
      "source": [
        "adivina_el_numero(100)"
      ],
      "metadata": {
        "id": "umhXkxY8Mj-J",
        "colab": {
          "base_uri": "https://localhost:8080/"
        },
        "outputId": "196dd35c-4616-441c-aa1f-e809794a80cb"
      },
      "execution_count": 11,
      "outputs": [
        {
          "output_type": "stream",
          "name": "stdout",
          "text": [
            "¡Bienvenido al juego!\n",
            "¿Cual es tu nombre?: \n",
            "Esteban\n",
            "el objetivo es adivinar el número generado\n",
            "Adivina el numero entre (1, 100):\n",
            "80\n",
            "fallaste, intenta con un número más pequeño\n",
            "Adivina el numero entre (1, 100):\n",
            "50\n",
            "fallaste, intenta con un número más pequeño\n",
            "Adivina el numero entre (1, 100):\n",
            "20\n",
            "fallaste, intenta con un número más grande\n",
            "Adivina el numero entre (1, 100):\n",
            "30\n",
            "fallaste, intenta con un número más grande\n",
            "Adivina el numero entre (1, 100):\n",
            "40\n",
            "fallaste, intenta con un número más grande\n",
            "Adivina el numero entre (1, 100):\n",
            "45\n",
            "fallaste, intenta con un número más grande\n",
            "Adivina el numero entre (1, 100):\n",
            "48\n",
            "fallaste, intenta con un número más grande\n",
            "Adivina el numero entre (1, 100):\n",
            "49\n",
            "¡Muy bien!  Esteban  haz hallado el numero 49. Felicidades\n",
            "Número de intentos fallidos 7\n"
          ]
        }
      ]
    }
  ]
}