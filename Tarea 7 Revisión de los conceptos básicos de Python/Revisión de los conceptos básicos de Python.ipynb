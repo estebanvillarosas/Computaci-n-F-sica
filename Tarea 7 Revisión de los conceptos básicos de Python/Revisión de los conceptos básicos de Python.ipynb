{
  "cells": [
    {
      "cell_type": "markdown",
      "metadata": {
        "id": "A7PvXhM4vSUs"
      },
      "source": [
        "# Tarea 7: Revisión de los conceptos básicos de Python\n",
        "### Computación - 8108\n",
        "#### Facultad de Ciencias - UNAM\n",
        "#### Profesores: C. Fís. Omar Trejo, C. Fís. Iván Jiménez, Pedro Flores-Silva\n",
        "\n",
        "Instrucciones: Este notebook contiene una serie de ejercicios que deben ser resueltos. Cada ejercicio se encuentra en una celda, ya sea de código o Markdown. Debes crear una o dos *celdas debajo de cada ejercicio* con tu(s) respectiva(s) respuestas. No modifiques las celdas originales.\n",
        "Recuerda que para ejecutar el código de una celda, presionar `Ctlr + Enter` o bien el boton de `play` en el editor Jupyter notebook.\n",
        "\n",
        "Cada ejercicio tendrá diferente valor, y se indicará en la celda de éste. La calificación final será la suma de los puntos obtenidos en cada ejercicio. Se calificará considerando la calidad de la respuesta, la claridad de la explicación y la correctitud del código. Por ejemplo, si el código no ejecuta la respuesta correcta pero se da una idea textual, se demuestra que hay comprensión del problema y el código hace sentido para el revisor, se otorgará una calificación parcial. Esto es, las respuestas no solo se evaluarán como bien o mal, sino que se considerará el esfuerzo. \n",
        "\n",
        "El codigo que realices debes comentarlo donde creas necesario, no vale no hacer ningún comentario. Recuerda que los comentarios son importantes para que el código sea legible y entendible, éstos se agregan con el símbolo # ."
      ]
    },
    {
      "cell_type": "markdown",
      "metadata": {
        "id": "wcxVRjqgvSUu"
      },
      "source": [
        "### Ejercicio 1 (1 punto):\n",
        "En una celda Markdown contesta: ¿Qué es un nombre reservado en python? Enlista 5 ejemplos de nombres reservados en python y describe su función (aquí debes investigar su función si es que aún no hemos tratado dicho nombre reservado)."
      ]
    },
    {
      "cell_type": "markdown",
      "source": [
        "#**Nombre Reservado**\n",
        "\n",
        "Un nombre reservado es una palabra que tiene un significado gramatical especial en este caso para python y no puede ser utilizada como un identificador de objetos en códigos del mismo, sino que se puede utilizar para declarar una variable, ya que dicha palabra realiza tareas específicas. Algunos ejemplos de estos nombres reservados son:\n",
        "\n",
        "\n",
        "*   **Return:** Se usa dentro de una función para salir y devolver un valor. \n",
        "*   **Await:** Proporcionada por la biblioteca ‘asyncio’ en Python. Se utiliza para escribir código concurrente en Python.\n",
        "*   **Finally:** Su uso garantiza que el bloque de código dentro de él se ejecute incluso si hay una excepción no controlada.\n",
        "*   **Pass:** Es una declaración nula en Python. No pasa nada cuando se ejecuta. Se utiliza como marcador de posición.\n",
        "*   **Raise:** Se usa para crear excepciones, qué hacer cuando ocurre una excepción, igual que ‘except y ‘try’.\n",
        "\n",
        "\n",
        "\n",
        "\n"
      ],
      "metadata": {
        "id": "pCdK4LrBxL5e"
      }
    },
    {
      "cell_type": "markdown",
      "metadata": {
        "id": "hRaKcUasvSUv"
      },
      "source": [
        "### Ejercicio 2 (1 punto):\n",
        "En una celda Markdown: Coloca tres ejemplos de nombres de variables que no son válidos en python. Explica por qué no son válidos."
      ]
    },
    {
      "cell_type": "markdown",
      "source": [
        "# Ejemplos de nombres de variables que no son válidos\n",
        "\n",
        "1.   **Finally = 47:** No es válido ya que usa la palabra reservada Finally.\n",
        "2.   **5pf:** No es válido, pues no puede haber un número primero.\n",
        "1.   **C o m o e s t a:** No es válido, ya que no puede haber espacio entre los elementos.\n",
        "\n",
        "\n"
      ],
      "metadata": {
        "id": "DauDYZoR1Q5H"
      }
    },
    {
      "cell_type": "markdown",
      "metadata": {
        "id": "UR9dgIPsvSUv"
      },
      "source": [
        "### Ejercicio 3 (3 puntos):\n",
        "Considera el siguiente polinomio: $f(x) = 10x^2 - 2x$. \n",
        "\n",
        "En una celda Markdown escribe:\n",
        "* Los pasos para encontrar sus raíces a través del método del despeje.\n",
        "* Los pasos para encontrar sus raíces a través del método de la chicharronera.\n",
        "\n",
        "En una celda de código, escribe un programa que compruebe que las raíces del polinomio $f(x) = 10x^2 - 2x$ que tu encontraste son correctas. El programa debe imprimir las raíces en la pantalla. (Debes usar la ecuación que obtuviste al depejar el polinomio).\n",
        "\n",
        "En otra celda de código, escribe un programa que encuentre las raíces del polinomio $f(x) = 10x^2 - 2x$ a través del método de la chicharronera. El programa debe imprimir las raíces en la pantalla. (Debes usar la chicharronera).\n",
        "\n",
        "Considera los signos de la chicharronera como dos operaciones diferentes: $(-)$ y $(+)$."
      ]
    },
    {
      "cell_type": "markdown",
      "source": [
        "## **Pasos para encontrar sus raíces a través del método del despeje**\n",
        "\n",
        "Tenemos que $f(x)= 10x^2-2x=0$\n",
        "\n",
        "Ahora factorizamos el polinomio y nos queda:\n",
        "\n",
        "$x(10x-2)=0$\n",
        "\n",
        "Sabiendo esto podemos sacar los dos valores de x, que son\n",
        "\n",
        "$x_1=0$\n",
        "\n",
        "y por otro lado\n",
        "\n",
        "$10x-2=0$  aquí despejamos a x\n",
        " \n",
        " $x_2=\\frac{2}{10}$\n",
        "\n",
        " $x_2=0.2$\n",
        "\n",
        "\n",
        "## **Pasos para encontrar sus raíces a través del método de la chicharronera**\n",
        "\n",
        "Tenemos que $f(x)= 10x^2-2x=0$\n",
        "\n",
        "Sabemos que $a=10$, $b=-2$, $c= 0$\n",
        "\n",
        "Ahora ya podemos aplicar la chicharronera\n",
        "\n",
        "\n",
        "$x= \\frac{-b\\pm\\sqrt{b^2-4ac}}{2a}$\n",
        "\n",
        "Pues bien, sustituimos valores\n",
        "\n",
        "$x= \\frac{-(-2)\\pm\\sqrt{(-2)^2-4(10)(0)}}{2(10)}$\n",
        "\n",
        "$x= \\frac{2\\pm2}{20}$\n",
        "\n",
        "Procedemos a encontrar los valores de x\n",
        "\n",
        "$x_1= \\frac{2-2}{20}$\n",
        "\n",
        "$x_1=0$\n",
        "\n",
        "Por otro lado\n",
        "\n",
        "$x_2= \\frac{2+2}{20}$\n",
        "\n",
        "$x_2= 0.2$"
      ],
      "metadata": {
        "id": "dSlcRCYV28zQ"
      }
    },
    {
      "cell_type": "code",
      "source": [
        "#Utilizando el método de despeje, tenemos lo siguiente\n",
        "\n",
        "print('Método por despeje')\n",
        "print('Obtenemos x_1')\n",
        "funcionc13 = x1*(10*x1-2)\n",
        "print('x_1=')\n",
        "print(funcionc13)\n",
        "\n",
        "print('Obtenemos x_2')\n",
        "funcionc11 = 10*x2**2\n",
        "funcionc12 = (2*x2)/2\n",
        "print('10x^2=')\n",
        "print(\"{:.1f}\".format(funcionc11))\n",
        "print('x_2=')\n",
        "print(funcionc12)\n"
      ],
      "metadata": {
        "id": "JEtWrd51-kGf",
        "colab": {
          "base_uri": "https://localhost:8080/"
        },
        "outputId": "b6089033-59ef-4a96-9aed-9ad86c2128d1"
      },
      "execution_count": 22,
      "outputs": [
        {
          "output_type": "stream",
          "name": "stdout",
          "text": [
            "Método por despeje\n",
            "Obtenemos x_1\n",
            "x_1=\n",
            "0\n",
            "Obtenemos x_2\n",
            "10x^2=\n",
            "0.4\n",
            "x_2=\n",
            "0.2\n"
          ]
        }
      ]
    },
    {
      "cell_type": "code",
      "source": [
        "#Utilizando el método de la chicharronera tenemos lo siguiente\n",
        "print('Método por chicharronera')\n",
        "def chicharronera(a,b,c):\n",
        "    raiz = (-b-((b**2-4*a*c)**0.5))/(2*a)\n",
        "    return raiz\n",
        "print ('x_1=')\n",
        "print(chicharronera(10,-2,0))\n",
        "\n",
        "def chicharronera1(a,b,c):\n",
        "    raiz1 = (-b+((b**2-4*a*c)**0.5))/(2*a)\n",
        "    return raiz1\n",
        "print ('x_2=')\n",
        "print(chicharronera1(10,-2,0))\n"
      ],
      "metadata": {
        "id": "AB3edqUR9Tzf",
        "colab": {
          "base_uri": "https://localhost:8080/"
        },
        "outputId": "c5b2b481-8b6e-412a-bc85-df8f8ed1f1fe"
      },
      "execution_count": 27,
      "outputs": [
        {
          "output_type": "stream",
          "name": "stdout",
          "text": [
            "Método por chicharronera\n",
            "x_1=\n",
            "0.0\n",
            "x_2=\n",
            "0.2\n"
          ]
        }
      ]
    },
    {
      "cell_type": "markdown",
      "metadata": {
        "id": "6HwxSk9rvSUw"
      },
      "source": [
        "### Ejercicio 4 (3 puntos):\n",
        "Caida libre: El gran Galileo Galilei subió la torre de Pisa para determinar el tiempo que tarda un objeto en caer desde una altura $H$ al suelo. Para ello, colocó un objeto de masa $m=100$ kg en la torre y lo dejó caer. El tiempo que tardó en caer fue $t=0.05616667$ minutos.\n",
        "\n",
        "Considerando que la aceleración de la gravedad es $g=9.8$ $\\frac{m}{s^2}$, escribe un programa que determine la altura de la torre de Pisa. El programa debe imprimir la altura en la pantalla.\n",
        "\n",
        "Recuerda que el movimiento de caída libre simplificado cumple la ecuación: $y(t) = H + vt - \\frac{1}{2}gt^2$.\n"
      ]
    },
    {
      "cell_type": "code",
      "source": [
        "#definimos variables y aplicamos la fórmula\n",
        "g = 9.8\n",
        "t = 3.37\n",
        "H = (g * (t**2))/2\n",
        "print('La altura de la torre de Pisa es: ')\n",
        "print(H, 'm')"
      ],
      "metadata": {
        "colab": {
          "base_uri": "https://localhost:8080/"
        },
        "id": "UQhg_GFTBBT2",
        "outputId": "534def23-a804-4faf-a693-198154d1297d"
      },
      "execution_count": 28,
      "outputs": [
        {
          "output_type": "stream",
          "name": "stdout",
          "text": [
            "La altura de la torre de Pisa es: \n",
            "55.64881000000001 m\n"
          ]
        }
      ]
    },
    {
      "cell_type": "markdown",
      "metadata": {
        "id": "w3r5zVxwvSUx"
      },
      "source": [
        "### Ejercicio 5 (2 puntos):\n",
        "Considera una lista de números enteros del 0 al 99 : `lista = [0,1, 2, 3, 4, ... , 95, 96, 97, 98, 99]`.\n",
        "En una celda de código, escribe un programa que imprima en la pantalla una la lista que cumpla con las siguientes condiciones:\n",
        "* Los ultimos 10 elementos: debe imprimir lo siguiente `[90, 91, 92, 93, 94, 95, 96, 97, 98, 99]`.\n",
        "* Los primeros 11 elementos: debe imprimir lo siguiente `[0, 1, 2, 3, 4, 5, 6, 7, 8, 9, 10]`.\n",
        "* La serie de elementos de la lista que están entre 60 y 75: debe imprimir lo siguiente `[60, 61, 62, 63, 64, 65, 66, 67, 68, 69, 70, 71, 72, 73, 74, 75]`.\n",
        "* El número 50: debe imprimir lo siguiente `50`.\n",
        "\n",
        "Debes aplicar el concepto de *slicing* para resolver este ejercicio (notación de puntos `[:]`).\n",
        "\n",
        "Puntos menos si se crean listas nuevas para cada caso y/o se seleccionan manualmente los valores.\n",
        "\n",
        "El código de abajo te ayudará a crear la lista del 0 al 99."
      ]
    },
    {
      "cell_type": "code",
      "execution_count": 29,
      "metadata": {
        "colab": {
          "base_uri": "https://localhost:8080/"
        },
        "id": "xIyGd18yvSUx",
        "outputId": "5f5070b0-822d-4a73-ae70-e7bb14257063"
      },
      "outputs": [
        {
          "output_type": "stream",
          "name": "stdout",
          "text": [
            "Últimos diez elementos:\n",
            "[90, 91, 92, 93, 94, 95, 96, 97, 98, 99]\n",
            "Primeros once elementos:\n",
            "[0, 1, 2, 3, 4, 5, 6, 7, 8, 9, 10]\n",
            "Elementos entre 60 y 75:\n",
            "[60, 61, 62, 63, 64, 65, 66, 67, 68, 69, 70, 71, 72, 73, 74, 75]\n",
            "Número:\n",
            "50\n"
          ]
        }
      ],
      "source": [
        "# Definimos la lista\n",
        "lista = list(range(100))\n",
        "print('Últimos diez elementos:')\n",
        "print(lista[90:])\n",
        "print('Primeros once elementos:')\n",
        "print(lista[:11])\n",
        "print('Elementos entre 60 y 75:')\n",
        "print(lista[60:-24])\n",
        "print('Número:')\n",
        "print(lista[50])"
      ]
    },
    {
      "cell_type": "markdown",
      "metadata": {
        "id": "rPqLshXzvSUz"
      },
      "source": [
        "### Puntos extras, este ejercicio es opcional (5 puntos):\n",
        "Replica el código visto en clase para simular los volados. Discute los resultados obtenidos. ¿Qué observas? ¿Qué puedes concluir? ¿Qué pasa cuando la cantidad de volados es muy pequeña? ¿Qué pasa cuando la cantidad de volados es muy grande?\n",
        "\n",
        "En caso de errores con librerias no encontradas, debes hacer en una celda de código lo siguiente:\n",
        "\n",
        "`!pip install nombre_de_la_libreria`. Por ejemplo para plotly: `!pip install plotly`."
      ]
    },
    {
      "cell_type": "code",
      "execution_count": 31,
      "metadata": {
        "colab": {
          "base_uri": "https://localhost:8080/",
          "height": 542
        },
        "id": "-GWTV8C-vSUz",
        "outputId": "af688460-1a35-4bd8-a0fe-bd487a715cd8"
      },
      "outputs": [
        {
          "output_type": "display_data",
          "data": {
            "text/html": [
              "<html>\n",
              "<head><meta charset=\"utf-8\" /></head>\n",
              "<body>\n",
              "    <div>            <script src=\"https://cdnjs.cloudflare.com/ajax/libs/mathjax/2.7.5/MathJax.js?config=TeX-AMS-MML_SVG\"></script><script type=\"text/javascript\">if (window.MathJax) {MathJax.Hub.Config({SVG: {font: \"STIX-Web\"}});}</script>                <script type=\"text/javascript\">window.PlotlyConfig = {MathJaxConfig: 'local'};</script>\n",
              "        <script src=\"https://cdn.plot.ly/plotly-2.8.3.min.js\"></script>                <div id=\"e0ba9f46-483e-48dd-807c-46559f3428a7\" class=\"plotly-graph-div\" style=\"height:525px; width:100%;\"></div>            <script type=\"text/javascript\">                                    window.PLOTLYENV=window.PLOTLYENV || {};                                    if (document.getElementById(\"e0ba9f46-483e-48dd-807c-46559f3428a7\")) {                    Plotly.newPlot(                        \"e0ba9f46-483e-48dd-807c-46559f3428a7\",                        [{\"alignmentgroup\":\"True\",\"bingroup\":\"x\",\"hovertemplate\":\"variable=Resultados<br>Resultado=%{x}<br>count=%{y}<extra></extra>\",\"legendgroup\":\"Resultados\",\"marker\":{\"color\":\"#636efa\",\"pattern\":{\"shape\":\"\"}},\"name\":\"Resultados\",\"offsetgroup\":\"Resultados\",\"orientation\":\"v\",\"showlegend\":true,\"texttemplate\":\"%{value}\",\"x\":[\"\\u00c1guila\",\"\\u00c1guila\",\"Sol\",\"\\u00c1guila\",\"Sol\",\"Sol\",\"Sol\",\"Sol\",\"\\u00c1guila\",\"Sol\",\"Sol\",\"Sol\",\"Sol\",\"Sol\",\"\\u00c1guila\",\"Sol\",\"Sol\",\"\\u00c1guila\",\"Sol\",\"\\u00c1guila\",\"\\u00c1guila\",\"\\u00c1guila\",\"Sol\",\"Sol\",\"\\u00c1guila\",\"Sol\",\"Sol\",\"Sol\",\"\\u00c1guila\",\"\\u00c1guila\",\"\\u00c1guila\",\"Sol\",\"\\u00c1guila\",\"Sol\",\"Sol\",\"Sol\",\"Sol\",\"Sol\",\"\\u00c1guila\",\"\\u00c1guila\",\"Sol\",\"\\u00c1guila\",\"Sol\",\"Sol\",\"Sol\",\"Sol\",\"\\u00c1guila\",\"Sol\",\"\\u00c1guila\",\"\\u00c1guila\",\"Sol\",\"\\u00c1guila\",\"Sol\",\"Sol\",\"\\u00c1guila\",\"\\u00c1guila\",\"Sol\",\"\\u00c1guila\",\"\\u00c1guila\",\"\\u00c1guila\",\"Sol\",\"\\u00c1guila\",\"\\u00c1guila\",\"\\u00c1guila\",\"Sol\",\"\\u00c1guila\",\"\\u00c1guila\",\"Sol\",\"Sol\",\"Sol\",\"\\u00c1guila\",\"\\u00c1guila\",\"Sol\",\"Sol\",\"Sol\",\"\\u00c1guila\",\"\\u00c1guila\",\"Sol\",\"Sol\",\"\\u00c1guila\",\"Sol\",\"\\u00c1guila\",\"Sol\",\"Sol\",\"\\u00c1guila\",\"Sol\",\"\\u00c1guila\",\"Sol\",\"Sol\",\"\\u00c1guila\",\"Sol\",\"\\u00c1guila\",\"\\u00c1guila\",\"Sol\",\"\\u00c1guila\",\"\\u00c1guila\",\"\\u00c1guila\",\"\\u00c1guila\",\"Sol\",\"\\u00c1guila\",\"Sol\",\"\\u00c1guila\",\"\\u00c1guila\",\"Sol\",\"\\u00c1guila\",\"\\u00c1guila\",\"Sol\",\"\\u00c1guila\",\"\\u00c1guila\",\"\\u00c1guila\",\"Sol\",\"Sol\",\"\\u00c1guila\",\"Sol\",\"Sol\",\"Sol\",\"Sol\",\"\\u00c1guila\",\"Sol\",\"\\u00c1guila\",\"Sol\",\"Sol\",\"\\u00c1guila\",\"Sol\",\"\\u00c1guila\",\"\\u00c1guila\",\"Sol\",\"Sol\",\"\\u00c1guila\",\"\\u00c1guila\",\"Sol\",\"\\u00c1guila\",\"\\u00c1guila\",\"Sol\",\"\\u00c1guila\",\"\\u00c1guila\",\"Sol\",\"Sol\",\"\\u00c1guila\",\"\\u00c1guila\",\"Sol\",\"Sol\",\"\\u00c1guila\",\"\\u00c1guila\",\"Sol\",\"\\u00c1guila\",\"Sol\",\"Sol\",\"Sol\",\"Sol\",\"Sol\",\"Sol\",\"Sol\",\"Sol\",\"Sol\",\"Sol\",\"\\u00c1guila\",\"Sol\",\"\\u00c1guila\",\"\\u00c1guila\",\"Sol\",\"\\u00c1guila\",\"\\u00c1guila\",\"\\u00c1guila\",\"Sol\",\"\\u00c1guila\",\"Sol\",\"Sol\",\"\\u00c1guila\",\"Sol\",\"Sol\",\"Sol\",\"Sol\",\"\\u00c1guila\",\"Sol\",\"\\u00c1guila\",\"\\u00c1guila\",\"Sol\",\"\\u00c1guila\",\"Sol\",\"\\u00c1guila\",\"Sol\",\"\\u00c1guila\",\"\\u00c1guila\",\"\\u00c1guila\",\"Sol\",\"Sol\",\"\\u00c1guila\",\"\\u00c1guila\",\"\\u00c1guila\",\"Sol\",\"Sol\",\"Sol\",\"Sol\",\"\\u00c1guila\",\"Sol\",\"Sol\",\"\\u00c1guila\",\"\\u00c1guila\",\"\\u00c1guila\",\"\\u00c1guila\",\"Sol\",\"Sol\",\"Sol\",\"\\u00c1guila\",\"\\u00c1guila\",\"Sol\",\"\\u00c1guila\",\"Sol\",\"Sol\",\"Sol\",\"\\u00c1guila\",\"\\u00c1guila\",\"\\u00c1guila\",\"Sol\",\"Sol\",\"\\u00c1guila\",\"Sol\",\"Sol\",\"\\u00c1guila\",\"Sol\",\"Sol\",\"Sol\",\"Sol\",\"Sol\",\"Sol\",\"Sol\",\"\\u00c1guila\",\"\\u00c1guila\",\"\\u00c1guila\",\"Sol\",\"\\u00c1guila\",\"Sol\",\"Sol\",\"\\u00c1guila\",\"\\u00c1guila\",\"Sol\",\"Sol\",\"Sol\",\"Sol\",\"Sol\",\"\\u00c1guila\",\"Sol\",\"\\u00c1guila\",\"Sol\",\"Sol\",\"\\u00c1guila\",\"Sol\",\"Sol\",\"\\u00c1guila\",\"Sol\",\"\\u00c1guila\",\"Sol\",\"Sol\",\"Sol\",\"\\u00c1guila\",\"Sol\",\"Sol\",\"Sol\",\"\\u00c1guila\",\"Sol\",\"\\u00c1guila\",\"\\u00c1guila\",\"\\u00c1guila\",\"Sol\",\"Sol\",\"\\u00c1guila\",\"Sol\",\"\\u00c1guila\",\"Sol\",\"Sol\",\"\\u00c1guila\",\"\\u00c1guila\",\"\\u00c1guila\",\"Sol\",\"\\u00c1guila\",\"\\u00c1guila\",\"Sol\",\"\\u00c1guila\",\"\\u00c1guila\",\"Sol\",\"\\u00c1guila\",\"\\u00c1guila\",\"Sol\",\"Sol\",\"\\u00c1guila\",\"Sol\",\"\\u00c1guila\",\"\\u00c1guila\",\"Sol\",\"\\u00c1guila\",\"\\u00c1guila\",\"\\u00c1guila\",\"Sol\",\"Sol\",\"\\u00c1guila\",\"\\u00c1guila\",\"\\u00c1guila\",\"Sol\",\"Sol\",\"Sol\",\"Sol\",\"Sol\",\"Sol\",\"Sol\",\"Sol\",\"Sol\",\"Sol\",\"Sol\",\"\\u00c1guila\",\"Sol\",\"Sol\",\"Sol\",\"Sol\",\"\\u00c1guila\",\"Sol\",\"Sol\",\"\\u00c1guila\",\"Sol\",\"\\u00c1guila\",\"Sol\",\"\\u00c1guila\",\"Sol\",\"\\u00c1guila\",\"Sol\",\"\\u00c1guila\",\"\\u00c1guila\",\"Sol\",\"\\u00c1guila\",\"Sol\",\"\\u00c1guila\",\"Sol\",\"Sol\",\"\\u00c1guila\",\"Sol\",\"Sol\",\"Sol\",\"Sol\",\"\\u00c1guila\",\"Sol\",\"Sol\",\"Sol\",\"Sol\",\"\\u00c1guila\",\"\\u00c1guila\",\"\\u00c1guila\",\"Sol\",\"\\u00c1guila\",\"\\u00c1guila\",\"\\u00c1guila\",\"Sol\",\"\\u00c1guila\",\"\\u00c1guila\",\"\\u00c1guila\",\"\\u00c1guila\",\"Sol\",\"Sol\",\"Sol\",\"\\u00c1guila\",\"\\u00c1guila\",\"\\u00c1guila\",\"Sol\",\"Sol\",\"Sol\",\"\\u00c1guila\",\"\\u00c1guila\",\"Sol\",\"Sol\",\"\\u00c1guila\",\"\\u00c1guila\",\"\\u00c1guila\",\"Sol\",\"Sol\",\"Sol\",\"Sol\",\"\\u00c1guila\",\"\\u00c1guila\",\"Sol\",\"\\u00c1guila\",\"Sol\",\"\\u00c1guila\",\"\\u00c1guila\",\"Sol\",\"Sol\",\"\\u00c1guila\",\"Sol\",\"\\u00c1guila\",\"Sol\",\"Sol\",\"Sol\",\"\\u00c1guila\",\"Sol\",\"Sol\",\"\\u00c1guila\",\"Sol\",\"Sol\",\"\\u00c1guila\",\"\\u00c1guila\",\"Sol\",\"Sol\",\"Sol\",\"Sol\",\"Sol\",\"\\u00c1guila\",\"Sol\",\"Sol\",\"\\u00c1guila\",\"Sol\",\"Sol\",\"Sol\",\"Sol\",\"Sol\",\"\\u00c1guila\",\"\\u00c1guila\",\"\\u00c1guila\",\"Sol\",\"Sol\",\"\\u00c1guila\",\"\\u00c1guila\",\"\\u00c1guila\",\"\\u00c1guila\",\"\\u00c1guila\",\"Sol\",\"Sol\",\"Sol\",\"Sol\",\"\\u00c1guila\",\"Sol\",\"\\u00c1guila\",\"\\u00c1guila\",\"\\u00c1guila\",\"Sol\",\"\\u00c1guila\",\"\\u00c1guila\",\"\\u00c1guila\",\"\\u00c1guila\",\"Sol\",\"\\u00c1guila\",\"Sol\",\"\\u00c1guila\",\"Sol\",\"Sol\",\"Sol\",\"Sol\",\"Sol\",\"\\u00c1guila\",\"\\u00c1guila\",\"Sol\",\"Sol\",\"Sol\",\"Sol\",\"Sol\",\"Sol\",\"\\u00c1guila\",\"Sol\",\"Sol\",\"\\u00c1guila\",\"Sol\",\"\\u00c1guila\",\"\\u00c1guila\",\"\\u00c1guila\",\"\\u00c1guila\",\"Sol\",\"Sol\",\"\\u00c1guila\",\"Sol\",\"Sol\",\"Sol\",\"Sol\",\"Sol\",\"Sol\",\"Sol\",\"\\u00c1guila\",\"Sol\",\"Sol\",\"Sol\",\"\\u00c1guila\",\"Sol\",\"\\u00c1guila\",\"Sol\",\"\\u00c1guila\",\"Sol\",\"\\u00c1guila\",\"\\u00c1guila\",\"Sol\",\"\\u00c1guila\",\"\\u00c1guila\",\"Sol\",\"Sol\",\"\\u00c1guila\",\"\\u00c1guila\",\"Sol\",\"\\u00c1guila\",\"\\u00c1guila\",\"Sol\",\"Sol\",\"Sol\",\"\\u00c1guila\",\"Sol\",\"\\u00c1guila\",\"Sol\",\"Sol\",\"Sol\",\"\\u00c1guila\",\"Sol\",\"\\u00c1guila\",\"Sol\",\"\\u00c1guila\",\"\\u00c1guila\",\"\\u00c1guila\",\"Sol\",\"\\u00c1guila\",\"Sol\",\"Sol\",\"\\u00c1guila\",\"\\u00c1guila\",\"Sol\",\"Sol\",\"\\u00c1guila\",\"Sol\",\"\\u00c1guila\",\"Sol\",\"\\u00c1guila\",\"\\u00c1guila\",\"\\u00c1guila\",\"Sol\",\"\\u00c1guila\",\"\\u00c1guila\",\"\\u00c1guila\",\"\\u00c1guila\",\"\\u00c1guila\",\"Sol\",\"\\u00c1guila\",\"Sol\",\"\\u00c1guila\",\"\\u00c1guila\",\"\\u00c1guila\",\"Sol\",\"Sol\",\"Sol\",\"Sol\",\"Sol\",\"\\u00c1guila\",\"Sol\",\"Sol\",\"Sol\",\"Sol\",\"\\u00c1guila\",\"Sol\",\"Sol\",\"Sol\",\"\\u00c1guila\",\"Sol\",\"\\u00c1guila\",\"\\u00c1guila\",\"Sol\",\"Sol\",\"\\u00c1guila\",\"\\u00c1guila\",\"\\u00c1guila\",\"Sol\",\"\\u00c1guila\",\"\\u00c1guila\",\"\\u00c1guila\",\"Sol\",\"\\u00c1guila\",\"\\u00c1guila\",\"\\u00c1guila\",\"\\u00c1guila\",\"\\u00c1guila\",\"Sol\",\"\\u00c1guila\",\"Sol\",\"\\u00c1guila\",\"\\u00c1guila\",\"Sol\",\"\\u00c1guila\",\"\\u00c1guila\",\"Sol\",\"\\u00c1guila\",\"\\u00c1guila\",\"Sol\",\"\\u00c1guila\",\"\\u00c1guila\",\"\\u00c1guila\",\"Sol\",\"Sol\",\"\\u00c1guila\",\"Sol\",\"Sol\",\"\\u00c1guila\",\"\\u00c1guila\",\"Sol\",\"Sol\",\"\\u00c1guila\",\"\\u00c1guila\",\"\\u00c1guila\",\"Sol\",\"Sol\",\"\\u00c1guila\",\"Sol\",\"Sol\",\"\\u00c1guila\",\"Sol\",\"\\u00c1guila\",\"Sol\",\"Sol\",\"Sol\",\"Sol\",\"\\u00c1guila\",\"Sol\",\"\\u00c1guila\",\"Sol\",\"Sol\",\"Sol\",\"Sol\",\"\\u00c1guila\",\"Sol\",\"\\u00c1guila\",\"\\u00c1guila\",\"Sol\",\"Sol\",\"Sol\",\"Sol\",\"Sol\",\"\\u00c1guila\",\"Sol\",\"\\u00c1guila\",\"Sol\",\"Sol\",\"\\u00c1guila\",\"Sol\",\"\\u00c1guila\",\"Sol\",\"Sol\",\"Sol\",\"Sol\",\"\\u00c1guila\",\"Sol\",\"Sol\",\"Sol\",\"\\u00c1guila\",\"Sol\",\"Sol\",\"\\u00c1guila\",\"Sol\",\"\\u00c1guila\",\"\\u00c1guila\",\"Sol\",\"\\u00c1guila\",\"Sol\",\"Sol\",\"Sol\",\"\\u00c1guila\",\"\\u00c1guila\",\"Sol\",\"Sol\",\"Sol\",\"\\u00c1guila\",\"Sol\",\"\\u00c1guila\",\"Sol\",\"\\u00c1guila\",\"Sol\",\"\\u00c1guila\",\"\\u00c1guila\",\"Sol\",\"Sol\",\"\\u00c1guila\",\"Sol\",\"\\u00c1guila\",\"Sol\",\"\\u00c1guila\",\"\\u00c1guila\",\"\\u00c1guila\",\"\\u00c1guila\",\"Sol\",\"\\u00c1guila\",\"\\u00c1guila\",\"\\u00c1guila\",\"\\u00c1guila\",\"Sol\",\"\\u00c1guila\",\"\\u00c1guila\",\"Sol\",\"\\u00c1guila\",\"\\u00c1guila\",\"Sol\",\"Sol\",\"Sol\",\"\\u00c1guila\",\"\\u00c1guila\",\"Sol\",\"\\u00c1guila\",\"\\u00c1guila\",\"Sol\",\"Sol\",\"Sol\",\"Sol\",\"\\u00c1guila\",\"Sol\",\"\\u00c1guila\",\"\\u00c1guila\",\"Sol\",\"Sol\",\"Sol\",\"Sol\",\"Sol\",\"\\u00c1guila\",\"Sol\",\"Sol\",\"Sol\",\"Sol\",\"\\u00c1guila\",\"\\u00c1guila\",\"Sol\",\"\\u00c1guila\",\"\\u00c1guila\",\"Sol\",\"\\u00c1guila\",\"\\u00c1guila\",\"Sol\",\"Sol\",\"\\u00c1guila\",\"Sol\",\"\\u00c1guila\",\"\\u00c1guila\",\"Sol\",\"\\u00c1guila\",\"\\u00c1guila\",\"Sol\",\"Sol\",\"Sol\",\"Sol\",\"Sol\",\"\\u00c1guila\",\"\\u00c1guila\",\"Sol\",\"Sol\",\"Sol\",\"\\u00c1guila\",\"Sol\",\"Sol\",\"\\u00c1guila\",\"Sol\",\"Sol\",\"\\u00c1guila\",\"Sol\",\"\\u00c1guila\",\"\\u00c1guila\",\"\\u00c1guila\",\"Sol\",\"\\u00c1guila\",\"Sol\",\"\\u00c1guila\",\"Sol\",\"\\u00c1guila\",\"\\u00c1guila\",\"Sol\",\"Sol\",\"Sol\",\"Sol\",\"\\u00c1guila\",\"\\u00c1guila\",\"\\u00c1guila\",\"Sol\",\"Sol\",\"\\u00c1guila\",\"Sol\",\"Sol\",\"\\u00c1guila\",\"\\u00c1guila\",\"Sol\",\"\\u00c1guila\",\"Sol\",\"\\u00c1guila\",\"\\u00c1guila\",\"Sol\",\"\\u00c1guila\",\"\\u00c1guila\",\"Sol\",\"\\u00c1guila\",\"\\u00c1guila\",\"Sol\",\"Sol\",\"\\u00c1guila\",\"Sol\",\"\\u00c1guila\",\"\\u00c1guila\",\"Sol\",\"Sol\",\"Sol\",\"Sol\",\"\\u00c1guila\",\"\\u00c1guila\",\"\\u00c1guila\",\"Sol\",\"Sol\",\"Sol\",\"\\u00c1guila\",\"\\u00c1guila\",\"Sol\",\"\\u00c1guila\",\"Sol\",\"\\u00c1guila\",\"Sol\",\"Sol\",\"Sol\",\"Sol\",\"\\u00c1guila\",\"\\u00c1guila\",\"\\u00c1guila\",\"Sol\",\"\\u00c1guila\",\"\\u00c1guila\",\"Sol\",\"\\u00c1guila\",\"Sol\",\"Sol\",\"\\u00c1guila\",\"Sol\",\"\\u00c1guila\",\"Sol\",\"\\u00c1guila\",\"\\u00c1guila\",\"\\u00c1guila\",\"\\u00c1guila\",\"Sol\",\"Sol\",\"Sol\",\"\\u00c1guila\",\"\\u00c1guila\",\"\\u00c1guila\",\"Sol\",\"Sol\",\"Sol\",\"Sol\",\"\\u00c1guila\",\"\\u00c1guila\",\"\\u00c1guila\",\"Sol\",\"\\u00c1guila\",\"Sol\",\"\\u00c1guila\",\"Sol\",\"\\u00c1guila\",\"\\u00c1guila\",\"\\u00c1guila\",\"Sol\",\"\\u00c1guila\",\"Sol\",\"Sol\",\"Sol\",\"Sol\",\"Sol\",\"\\u00c1guila\",\"\\u00c1guila\",\"\\u00c1guila\",\"\\u00c1guila\",\"\\u00c1guila\",\"Sol\",\"\\u00c1guila\",\"\\u00c1guila\",\"\\u00c1guila\",\"Sol\",\"\\u00c1guila\",\"\\u00c1guila\",\"Sol\",\"Sol\",\"\\u00c1guila\",\"Sol\",\"Sol\",\"Sol\",\"Sol\",\"Sol\",\"\\u00c1guila\",\"\\u00c1guila\",\"\\u00c1guila\",\"Sol\",\"Sol\",\"\\u00c1guila\",\"\\u00c1guila\",\"Sol\",\"\\u00c1guila\",\"\\u00c1guila\",\"\\u00c1guila\",\"\\u00c1guila\",\"Sol\",\"\\u00c1guila\",\"Sol\",\"\\u00c1guila\",\"Sol\",\"\\u00c1guila\",\"\\u00c1guila\",\"\\u00c1guila\",\"Sol\",\"\\u00c1guila\",\"\\u00c1guila\",\"\\u00c1guila\",\"Sol\",\"Sol\",\"\\u00c1guila\",\"\\u00c1guila\",\"Sol\",\"\\u00c1guila\",\"Sol\",\"\\u00c1guila\",\"\\u00c1guila\",\"\\u00c1guila\",\"\\u00c1guila\",\"Sol\",\"\\u00c1guila\",\"Sol\",\"\\u00c1guila\",\"Sol\",\"Sol\",\"Sol\",\"\\u00c1guila\",\"\\u00c1guila\",\"\\u00c1guila\",\"Sol\",\"\\u00c1guila\",\"\\u00c1guila\",\"\\u00c1guila\",\"\\u00c1guila\",\"Sol\",\"Sol\",\"\\u00c1guila\",\"Sol\",\"\\u00c1guila\",\"Sol\",\"\\u00c1guila\",\"\\u00c1guila\",\"\\u00c1guila\",\"\\u00c1guila\",\"\\u00c1guila\",\"\\u00c1guila\",\"Sol\",\"Sol\",\"Sol\",\"\\u00c1guila\",\"\\u00c1guila\",\"Sol\",\"Sol\",\"\\u00c1guila\",\"Sol\",\"\\u00c1guila\",\"Sol\",\"\\u00c1guila\",\"\\u00c1guila\",\"\\u00c1guila\",\"Sol\",\"\\u00c1guila\",\"\\u00c1guila\",\"Sol\",\"Sol\",\"Sol\",\"Sol\",\"Sol\",\"Sol\",\"\\u00c1guila\",\"Sol\",\"Sol\",\"\\u00c1guila\",\"\\u00c1guila\",\"Sol\",\"\\u00c1guila\",\"Sol\",\"\\u00c1guila\",\"\\u00c1guila\",\"\\u00c1guila\",\"Sol\",\"Sol\",\"\\u00c1guila\",\"Sol\",\"Sol\",\"\\u00c1guila\",\"Sol\",\"\\u00c1guila\",\"\\u00c1guila\",\"Sol\",\"\\u00c1guila\",\"Sol\",\"\\u00c1guila\",\"Sol\",\"\\u00c1guila\",\"\\u00c1guila\",\"Sol\",\"\\u00c1guila\",\"Sol\",\"\\u00c1guila\",\"Sol\",\"\\u00c1guila\",\"Sol\",\"\\u00c1guila\",\"Sol\",\"Sol\",\"Sol\",\"\\u00c1guila\",\"Sol\"],\"xaxis\":\"x\",\"yaxis\":\"y\",\"type\":\"histogram\"}],                        {\"template\":{\"data\":{\"barpolar\":[{\"marker\":{\"line\":{\"color\":\"white\",\"width\":0.5},\"pattern\":{\"fillmode\":\"overlay\",\"size\":10,\"solidity\":0.2}},\"type\":\"barpolar\"}],\"bar\":[{\"error_x\":{\"color\":\"#2a3f5f\"},\"error_y\":{\"color\":\"#2a3f5f\"},\"marker\":{\"line\":{\"color\":\"white\",\"width\":0.5},\"pattern\":{\"fillmode\":\"overlay\",\"size\":10,\"solidity\":0.2}},\"type\":\"bar\"}],\"carpet\":[{\"aaxis\":{\"endlinecolor\":\"#2a3f5f\",\"gridcolor\":\"#C8D4E3\",\"linecolor\":\"#C8D4E3\",\"minorgridcolor\":\"#C8D4E3\",\"startlinecolor\":\"#2a3f5f\"},\"baxis\":{\"endlinecolor\":\"#2a3f5f\",\"gridcolor\":\"#C8D4E3\",\"linecolor\":\"#C8D4E3\",\"minorgridcolor\":\"#C8D4E3\",\"startlinecolor\":\"#2a3f5f\"},\"type\":\"carpet\"}],\"choropleth\":[{\"colorbar\":{\"outlinewidth\":0,\"ticks\":\"\"},\"type\":\"choropleth\"}],\"contourcarpet\":[{\"colorbar\":{\"outlinewidth\":0,\"ticks\":\"\"},\"type\":\"contourcarpet\"}],\"contour\":[{\"colorbar\":{\"outlinewidth\":0,\"ticks\":\"\"},\"colorscale\":[[0.0,\"#0d0887\"],[0.1111111111111111,\"#46039f\"],[0.2222222222222222,\"#7201a8\"],[0.3333333333333333,\"#9c179e\"],[0.4444444444444444,\"#bd3786\"],[0.5555555555555556,\"#d8576b\"],[0.6666666666666666,\"#ed7953\"],[0.7777777777777778,\"#fb9f3a\"],[0.8888888888888888,\"#fdca26\"],[1.0,\"#f0f921\"]],\"type\":\"contour\"}],\"heatmapgl\":[{\"colorbar\":{\"outlinewidth\":0,\"ticks\":\"\"},\"colorscale\":[[0.0,\"#0d0887\"],[0.1111111111111111,\"#46039f\"],[0.2222222222222222,\"#7201a8\"],[0.3333333333333333,\"#9c179e\"],[0.4444444444444444,\"#bd3786\"],[0.5555555555555556,\"#d8576b\"],[0.6666666666666666,\"#ed7953\"],[0.7777777777777778,\"#fb9f3a\"],[0.8888888888888888,\"#fdca26\"],[1.0,\"#f0f921\"]],\"type\":\"heatmapgl\"}],\"heatmap\":[{\"colorbar\":{\"outlinewidth\":0,\"ticks\":\"\"},\"colorscale\":[[0.0,\"#0d0887\"],[0.1111111111111111,\"#46039f\"],[0.2222222222222222,\"#7201a8\"],[0.3333333333333333,\"#9c179e\"],[0.4444444444444444,\"#bd3786\"],[0.5555555555555556,\"#d8576b\"],[0.6666666666666666,\"#ed7953\"],[0.7777777777777778,\"#fb9f3a\"],[0.8888888888888888,\"#fdca26\"],[1.0,\"#f0f921\"]],\"type\":\"heatmap\"}],\"histogram2dcontour\":[{\"colorbar\":{\"outlinewidth\":0,\"ticks\":\"\"},\"colorscale\":[[0.0,\"#0d0887\"],[0.1111111111111111,\"#46039f\"],[0.2222222222222222,\"#7201a8\"],[0.3333333333333333,\"#9c179e\"],[0.4444444444444444,\"#bd3786\"],[0.5555555555555556,\"#d8576b\"],[0.6666666666666666,\"#ed7953\"],[0.7777777777777778,\"#fb9f3a\"],[0.8888888888888888,\"#fdca26\"],[1.0,\"#f0f921\"]],\"type\":\"histogram2dcontour\"}],\"histogram2d\":[{\"colorbar\":{\"outlinewidth\":0,\"ticks\":\"\"},\"colorscale\":[[0.0,\"#0d0887\"],[0.1111111111111111,\"#46039f\"],[0.2222222222222222,\"#7201a8\"],[0.3333333333333333,\"#9c179e\"],[0.4444444444444444,\"#bd3786\"],[0.5555555555555556,\"#d8576b\"],[0.6666666666666666,\"#ed7953\"],[0.7777777777777778,\"#fb9f3a\"],[0.8888888888888888,\"#fdca26\"],[1.0,\"#f0f921\"]],\"type\":\"histogram2d\"}],\"histogram\":[{\"marker\":{\"pattern\":{\"fillmode\":\"overlay\",\"size\":10,\"solidity\":0.2}},\"type\":\"histogram\"}],\"mesh3d\":[{\"colorbar\":{\"outlinewidth\":0,\"ticks\":\"\"},\"type\":\"mesh3d\"}],\"parcoords\":[{\"line\":{\"colorbar\":{\"outlinewidth\":0,\"ticks\":\"\"}},\"type\":\"parcoords\"}],\"pie\":[{\"automargin\":true,\"type\":\"pie\"}],\"scatter3d\":[{\"line\":{\"colorbar\":{\"outlinewidth\":0,\"ticks\":\"\"}},\"marker\":{\"colorbar\":{\"outlinewidth\":0,\"ticks\":\"\"}},\"type\":\"scatter3d\"}],\"scattercarpet\":[{\"marker\":{\"colorbar\":{\"outlinewidth\":0,\"ticks\":\"\"}},\"type\":\"scattercarpet\"}],\"scattergeo\":[{\"marker\":{\"colorbar\":{\"outlinewidth\":0,\"ticks\":\"\"}},\"type\":\"scattergeo\"}],\"scattergl\":[{\"marker\":{\"colorbar\":{\"outlinewidth\":0,\"ticks\":\"\"}},\"type\":\"scattergl\"}],\"scattermapbox\":[{\"marker\":{\"colorbar\":{\"outlinewidth\":0,\"ticks\":\"\"}},\"type\":\"scattermapbox\"}],\"scatterpolargl\":[{\"marker\":{\"colorbar\":{\"outlinewidth\":0,\"ticks\":\"\"}},\"type\":\"scatterpolargl\"}],\"scatterpolar\":[{\"marker\":{\"colorbar\":{\"outlinewidth\":0,\"ticks\":\"\"}},\"type\":\"scatterpolar\"}],\"scatter\":[{\"marker\":{\"colorbar\":{\"outlinewidth\":0,\"ticks\":\"\"}},\"type\":\"scatter\"}],\"scatterternary\":[{\"marker\":{\"colorbar\":{\"outlinewidth\":0,\"ticks\":\"\"}},\"type\":\"scatterternary\"}],\"surface\":[{\"colorbar\":{\"outlinewidth\":0,\"ticks\":\"\"},\"colorscale\":[[0.0,\"#0d0887\"],[0.1111111111111111,\"#46039f\"],[0.2222222222222222,\"#7201a8\"],[0.3333333333333333,\"#9c179e\"],[0.4444444444444444,\"#bd3786\"],[0.5555555555555556,\"#d8576b\"],[0.6666666666666666,\"#ed7953\"],[0.7777777777777778,\"#fb9f3a\"],[0.8888888888888888,\"#fdca26\"],[1.0,\"#f0f921\"]],\"type\":\"surface\"}],\"table\":[{\"cells\":{\"fill\":{\"color\":\"#EBF0F8\"},\"line\":{\"color\":\"white\"}},\"header\":{\"fill\":{\"color\":\"#C8D4E3\"},\"line\":{\"color\":\"white\"}},\"type\":\"table\"}]},\"layout\":{\"annotationdefaults\":{\"arrowcolor\":\"#2a3f5f\",\"arrowhead\":0,\"arrowwidth\":1},\"autotypenumbers\":\"strict\",\"coloraxis\":{\"colorbar\":{\"outlinewidth\":0,\"ticks\":\"\"}},\"colorscale\":{\"diverging\":[[0,\"#8e0152\"],[0.1,\"#c51b7d\"],[0.2,\"#de77ae\"],[0.3,\"#f1b6da\"],[0.4,\"#fde0ef\"],[0.5,\"#f7f7f7\"],[0.6,\"#e6f5d0\"],[0.7,\"#b8e186\"],[0.8,\"#7fbc41\"],[0.9,\"#4d9221\"],[1,\"#276419\"]],\"sequential\":[[0.0,\"#0d0887\"],[0.1111111111111111,\"#46039f\"],[0.2222222222222222,\"#7201a8\"],[0.3333333333333333,\"#9c179e\"],[0.4444444444444444,\"#bd3786\"],[0.5555555555555556,\"#d8576b\"],[0.6666666666666666,\"#ed7953\"],[0.7777777777777778,\"#fb9f3a\"],[0.8888888888888888,\"#fdca26\"],[1.0,\"#f0f921\"]],\"sequentialminus\":[[0.0,\"#0d0887\"],[0.1111111111111111,\"#46039f\"],[0.2222222222222222,\"#7201a8\"],[0.3333333333333333,\"#9c179e\"],[0.4444444444444444,\"#bd3786\"],[0.5555555555555556,\"#d8576b\"],[0.6666666666666666,\"#ed7953\"],[0.7777777777777778,\"#fb9f3a\"],[0.8888888888888888,\"#fdca26\"],[1.0,\"#f0f921\"]]},\"colorway\":[\"#636efa\",\"#EF553B\",\"#00cc96\",\"#ab63fa\",\"#FFA15A\",\"#19d3f3\",\"#FF6692\",\"#B6E880\",\"#FF97FF\",\"#FECB52\"],\"font\":{\"color\":\"#2a3f5f\"},\"geo\":{\"bgcolor\":\"white\",\"lakecolor\":\"white\",\"landcolor\":\"white\",\"showlakes\":true,\"showland\":true,\"subunitcolor\":\"#C8D4E3\"},\"hoverlabel\":{\"align\":\"left\"},\"hovermode\":\"closest\",\"mapbox\":{\"style\":\"light\"},\"paper_bgcolor\":\"white\",\"plot_bgcolor\":\"white\",\"polar\":{\"angularaxis\":{\"gridcolor\":\"#EBF0F8\",\"linecolor\":\"#EBF0F8\",\"ticks\":\"\"},\"bgcolor\":\"white\",\"radialaxis\":{\"gridcolor\":\"#EBF0F8\",\"linecolor\":\"#EBF0F8\",\"ticks\":\"\"}},\"scene\":{\"xaxis\":{\"backgroundcolor\":\"white\",\"gridcolor\":\"#DFE8F3\",\"gridwidth\":2,\"linecolor\":\"#EBF0F8\",\"showbackground\":true,\"ticks\":\"\",\"zerolinecolor\":\"#EBF0F8\"},\"yaxis\":{\"backgroundcolor\":\"white\",\"gridcolor\":\"#DFE8F3\",\"gridwidth\":2,\"linecolor\":\"#EBF0F8\",\"showbackground\":true,\"ticks\":\"\",\"zerolinecolor\":\"#EBF0F8\"},\"zaxis\":{\"backgroundcolor\":\"white\",\"gridcolor\":\"#DFE8F3\",\"gridwidth\":2,\"linecolor\":\"#EBF0F8\",\"showbackground\":true,\"ticks\":\"\",\"zerolinecolor\":\"#EBF0F8\"}},\"shapedefaults\":{\"line\":{\"color\":\"#2a3f5f\"}},\"ternary\":{\"aaxis\":{\"gridcolor\":\"#DFE8F3\",\"linecolor\":\"#A2B1C6\",\"ticks\":\"\"},\"baxis\":{\"gridcolor\":\"#DFE8F3\",\"linecolor\":\"#A2B1C6\",\"ticks\":\"\"},\"bgcolor\":\"white\",\"caxis\":{\"gridcolor\":\"#DFE8F3\",\"linecolor\":\"#A2B1C6\",\"ticks\":\"\"}},\"title\":{\"x\":0.05},\"xaxis\":{\"automargin\":true,\"gridcolor\":\"#EBF0F8\",\"linecolor\":\"#EBF0F8\",\"ticks\":\"\",\"title\":{\"standoff\":15},\"zerolinecolor\":\"#EBF0F8\",\"zerolinewidth\":2},\"yaxis\":{\"automargin\":true,\"gridcolor\":\"#EBF0F8\",\"linecolor\":\"#EBF0F8\",\"ticks\":\"\",\"title\":{\"standoff\":15},\"zerolinecolor\":\"#EBF0F8\",\"zerolinewidth\":2}}},\"xaxis\":{\"anchor\":\"y\",\"domain\":[0.0,1.0],\"title\":{\"text\":\"Frecuencia\"}},\"yaxis\":{\"anchor\":\"x\",\"domain\":[0.0,1.0],\"title\":{\"text\":\"Resultado\"}},\"legend\":{\"title\":{\"text\":\"variable\"},\"tracegroupgap\":0},\"margin\":{\"t\":60},\"barmode\":\"relative\",\"title\":{\"text\":\"Simulaci\\u00f3n de tirar mil volados\"}},                        {\"responsive\": true}                    ).then(function(){\n",
              "                            \n",
              "var gd = document.getElementById('e0ba9f46-483e-48dd-807c-46559f3428a7');\n",
              "var x = new MutationObserver(function (mutations, observer) {{\n",
              "        var display = window.getComputedStyle(gd).display;\n",
              "        if (!display || display === 'none') {{\n",
              "            console.log([gd, 'removed!']);\n",
              "            Plotly.purge(gd);\n",
              "            observer.disconnect();\n",
              "        }}\n",
              "}});\n",
              "\n",
              "// Listen for the removal of the full notebook cells\n",
              "var notebookContainer = gd.closest('#notebook-container');\n",
              "if (notebookContainer) {{\n",
              "    x.observe(notebookContainer, {childList: true});\n",
              "}}\n",
              "\n",
              "// Listen for the clearing of the current output cell\n",
              "var outputEl = gd.closest('.output');\n",
              "if (outputEl) {{\n",
              "    x.observe(outputEl, {childList: true});\n",
              "}}\n",
              "\n",
              "                        })                };                            </script>        </div>\n",
              "</body>\n",
              "</html>"
            ]
          },
          "metadata": {}
        }
      ],
      "source": [
        "#Importación de librerias\n",
        "\n",
        "import pandas as pd\n",
        "import numpy as np\n",
        "from matplotlib import pyplot as plt\n",
        "import plotly.express as px\n",
        "\n",
        "#Vamos a simular el proceso de hacer mil volados y ver graficar su distribución\n",
        "\n",
        "\n",
        "#Paso 1: tira mil veces una moneda (selecciona un valor aleatoriamente de entre dos posibles resultados)\n",
        "resultados_de_volados = np.random.randint(low=0, high=2, size=1000)\n",
        "#Pas 2: convuierte el resultado a una forma tabular\n",
        "resultados_tabla = pd.DataFrame(resultados_de_volados, columns=['Resultados'])\n",
        "#Paso 3: formatea los resultados a algo más legible\n",
        "resultados_tabla.Resultados.replace({0:'Águila', 1:'Sol'}, inplace=True)\n",
        "\n",
        "#Paso 4: grafica el histograma\n",
        "fig = px.histogram(resultados_tabla, text_auto=True, labels={\n",
        "                     \"value\": \"Resultado\",\n",
        "                     \"count\": \"Frecuencia\"}, template='plotly_white')\n",
        "fig.update_layout(\n",
        "    title=\"Simulación de tirar mil volados\",\n",
        "    xaxis_title=\"Frecuencia\",\n",
        "    yaxis_title=\"Resultado\"\n",
        ")"
      ]
    },
    {
      "cell_type": "markdown",
      "source": [
        "# **Discusión de los resultados**\n",
        "\n",
        "Pude observar que el que salga  Águilas con respecto a Soles es conciderablemente diferente. De este modo puedo concluir que, aunque la probabilidad de que caiga la moneda de un lado o de otro sea del 50%, esto no se debería de cumplir con respecto a la cantidad de apariciones. Así, cuando la cantidad de volados es pequeña, la diferencia es notoria. Por otro lado, cuando la cantidad de volados tiende al infinito, se aproxima a una igualdad con respecto al número de apariciones de cada lado."
      ],
      "metadata": {
        "id": "7hdGvMuu_I_4"
      }
    }
  ],
  "metadata": {
    "kernelspec": {
      "display_name": "Python 3.9.13 ('base')",
      "language": "python",
      "name": "python3"
    },
    "language_info": {
      "codemirror_mode": {
        "name": "ipython",
        "version": 3
      },
      "file_extension": ".py",
      "mimetype": "text/x-python",
      "name": "python",
      "nbconvert_exporter": "python",
      "pygments_lexer": "ipython3",
      "version": "3.9.13"
    },
    "orig_nbformat": 4,
    "vscode": {
      "interpreter": {
        "hash": "ad2bdc8ecc057115af97d19610ffacc2b4e99fae6737bb82f5d7fb13d2f2c186"
      }
    },
    "colab": {
      "provenance": []
    }
  },
  "nbformat": 4,
  "nbformat_minor": 0
}